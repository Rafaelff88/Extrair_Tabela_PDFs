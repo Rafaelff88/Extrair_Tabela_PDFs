{
 "cells": [
  {
   "cell_type": "markdown",
   "id": "7be47e72",
   "metadata": {},
   "source": [
    "![title](images/Header.png)"
   ]
  },
  {
   "cell_type": "code",
   "execution_count": null,
   "id": "3fa7a68b",
   "metadata": {},
   "outputs": [],
   "source": [
    "#pip install tabula-py"
   ]
  },
  {
   "cell_type": "code",
   "execution_count": null,
   "id": "82d237ab",
   "metadata": {},
   "outputs": [],
   "source": [
    "import pandas as pd\n",
    "import tabula"
   ]
  },
  {
   "cell_type": "code",
   "execution_count": null,
   "id": "ca85b43d",
   "metadata": {},
   "outputs": [],
   "source": [
    "arquivopdf = 'Arquivo_em_PDF'"
   ]
  },
  {
   "cell_type": "code",
   "execution_count": null,
   "id": "e22cd730",
   "metadata": {},
   "outputs": [],
   "source": [
    "lista_tabelas = tabula.read_pdf(arquivopdf+\".pdf\", pages=\"all\")"
   ]
  },
  {
   "cell_type": "code",
   "execution_count": null,
   "id": "9cd94928",
   "metadata": {},
   "outputs": [],
   "source": [
    "print(len(lista_tabelas))"
   ]
  },
  {
   "cell_type": "code",
   "execution_count": null,
   "id": "96ddab37",
   "metadata": {},
   "outputs": [],
   "source": [
    "# Imprimindo todas as tabelas extraidas\n",
    "for tabela in lista_tabelas:\n",
    "    display(tabela)"
   ]
  },
  {
   "cell_type": "code",
   "execution_count": null,
   "id": "12c7a690",
   "metadata": {},
   "outputs": [],
   "source": [
    "lista_tabelas[0]"
   ]
  },
  {
   "cell_type": "code",
   "execution_count": null,
   "id": "3b3155b9",
   "metadata": {},
   "outputs": [],
   "source": [
    "lista_tabelas[1]"
   ]
  },
  {
   "cell_type": "markdown",
   "id": "bb8a9dfe",
   "metadata": {},
   "source": [
    "# Manipulando as Tabelas"
   ]
  },
  {
   "cell_type": "code",
   "execution_count": null,
   "id": "6397d1a0",
   "metadata": {},
   "outputs": [],
   "source": [
    "# tabela1 recebendo os dados da posição 1 \n",
    "tabela1 = lista_tabelas[0]"
   ]
  },
  {
   "cell_type": "code",
   "execution_count": null,
   "id": "3d97f4cf",
   "metadata": {},
   "outputs": [],
   "source": [
    "display(tabela1)"
   ]
  },
  {
   "cell_type": "code",
   "execution_count": null,
   "id": "2f654ce4",
   "metadata": {},
   "outputs": [],
   "source": [
    "# tabela2 recebendo os dados da posição 2 \n",
    "tabela2 = lista_tabelas[1]"
   ]
  },
  {
   "cell_type": "code",
   "execution_count": null,
   "id": "002bf583",
   "metadata": {},
   "outputs": [],
   "source": [
    "display(tabela2)"
   ]
  },
  {
   "cell_type": "markdown",
   "id": "fe60c964",
   "metadata": {},
   "source": [
    "# Alterando Tabela 1"
   ]
  },
  {
   "cell_type": "code",
   "execution_count": null,
   "id": "98b4bd55",
   "metadata": {},
   "outputs": [],
   "source": [
    "# AQUI A VARIÁVEL DA TABELA QUE NOS INTERESSA\n",
    "tabelinha = tabela1\n",
    "# Nova linha a ser inserida\n",
    "new_row = {tabelinha.columns[0]: 'nova_linha', tabelinha.columns[1]: 'nova_linha', tabelinha.columns[2]: 'nova_linha', tabelinha.columns[3]: 'nova_linha'}\n",
    "\n",
    "# Índice onde a nova linha será inserida\n",
    "position = 0\n",
    "\n",
    "# Dividindo o DataFrame em duas partes\n",
    "upper_half = tabelinha.iloc[:position]\n",
    "lower_half = tabelinha.iloc[position:]\n",
    "\n",
    "# Convertendo a nova linha para DataFrame\n",
    "new_row_df = pd.DataFrame([new_row])\n",
    "\n",
    "# Concatenando tudo de volta\n",
    "tabelinha = pd.concat([upper_half, new_row_df, lower_half]).reset_index(drop=True)\n",
    "\n",
    "\n",
    "\n",
    "print(\"DataFrame após adicionar uma nova linha em uma posição específica:\")\n",
    "tabelinha"
   ]
  },
  {
   "cell_type": "code",
   "execution_count": null,
   "id": "78e54ec4",
   "metadata": {},
   "outputs": [],
   "source": [
    "tabela1 = tabelinha\n",
    "tabela1"
   ]
  },
  {
   "cell_type": "code",
   "execution_count": null,
   "id": "0c434554",
   "metadata": {},
   "outputs": [],
   "source": [
    "# Inserindo os dados da coluna no índice 0\n",
    "tabela1.iloc[0] = tabela1.columns"
   ]
  },
  {
   "cell_type": "code",
   "execution_count": null,
   "id": "c32d77d7",
   "metadata": {},
   "outputs": [],
   "source": [
    "tabela1"
   ]
  },
  {
   "cell_type": "code",
   "execution_count": null,
   "id": "6c5602ab",
   "metadata": {},
   "outputs": [],
   "source": [
    "# Inserindo o nome correto na coluna\n",
    "colunastabela = [\"Vencimento\", \"Imagem\", \"Compra\", \"Valor\"]\n",
    "tabela1.columns = colunastabela"
   ]
  },
  {
   "cell_type": "code",
   "execution_count": null,
   "id": "cb6844c5",
   "metadata": {},
   "outputs": [],
   "source": [
    "# Deletando a Coluna Imagem\n",
    "tabela1.drop(columns=\"Imagem\", inplace=True)\n",
    "tabela1"
   ]
  },
  {
   "cell_type": "markdown",
   "id": "3fb2c491",
   "metadata": {},
   "source": [
    "## Alterando Tabela 2"
   ]
  },
  {
   "cell_type": "code",
   "execution_count": null,
   "id": "eb456435",
   "metadata": {},
   "outputs": [],
   "source": [
    "# AQUI A VARIÁVEL DA TABELA QUE NOS INTERESSA\n",
    "tabelinha = tabela2\n",
    "# Nova linha a ser inserida\n",
    "new_row = {tabelinha.columns[0]: 'nova_linha', tabelinha.columns[1]: 'nova_linha', tabelinha.columns[2]: 'nova_linha', tabelinha.columns[3]: 'nova_linha'}\n",
    "\n",
    "# Índice onde a nova linha será inserida\n",
    "position = 0\n",
    "\n",
    "# Dividindo o DataFrame em duas partes\n",
    "upper_half = tabelinha.iloc[:position]\n",
    "lower_half = tabelinha.iloc[position:]\n",
    "\n",
    "# Convertendo a nova linha para DataFrame\n",
    "new_row_df = pd.DataFrame([new_row])\n",
    "\n",
    "# Concatenando tudo de volta\n",
    "tabelinha = pd.concat([upper_half, new_row_df, lower_half]).reset_index(drop=True)\n",
    "\n",
    "\n",
    "print(\"DataFrame após adicionar uma nova linha em uma posição específica:\")\n",
    "tabelinha"
   ]
  },
  {
   "cell_type": "code",
   "execution_count": null,
   "id": "1ee151b5",
   "metadata": {},
   "outputs": [],
   "source": [
    "tabela2 = tabelinha\n",
    "tabela2"
   ]
  },
  {
   "cell_type": "code",
   "execution_count": null,
   "id": "1cab3547",
   "metadata": {},
   "outputs": [],
   "source": [
    "# Inserindo os dados da coluna no índice 0\n",
    "tabela2.iloc[0] = tabela2.columns"
   ]
  },
  {
   "cell_type": "code",
   "execution_count": null,
   "id": "8640c833",
   "metadata": {},
   "outputs": [],
   "source": [
    "# Inserindo o nome correto na coluna\n",
    "colunastabela = [\"Vencimento\", \"Imagem\", \"Compra\", \"Valor\"]\n",
    "tabela2.columns = colunastabela"
   ]
  },
  {
   "cell_type": "code",
   "execution_count": null,
   "id": "00e96c3d",
   "metadata": {},
   "outputs": [],
   "source": [
    "# Deletando a Coluna Imagem\n",
    "tabela2.drop(columns=\"Imagem\", inplace=True)\n",
    "tabela2"
   ]
  },
  {
   "cell_type": "markdown",
   "id": "c7bccbfc",
   "metadata": {},
   "source": [
    "# Unindo tabela1 e tabela2, com .concat()"
   ]
  },
  {
   "cell_type": "code",
   "execution_count": null,
   "id": "84ae410e",
   "metadata": {},
   "outputs": [],
   "source": [
    "# Unindo as tabelas\n",
    "tabela3 = pd.concat([tabela1, tabela2]).reset_index(drop=True)\n",
    "tabela3"
   ]
  },
  {
   "cell_type": "markdown",
   "id": "8d647c3d",
   "metadata": {},
   "source": [
    "# Extraindo Tabela3 em arquivo para excel (.xlsx)"
   ]
  },
  {
   "cell_type": "code",
   "execution_count": null,
   "id": "546b3534",
   "metadata": {},
   "outputs": [],
   "source": [
    "# Salvando versão unida em excel\n",
    "tabela3.to_excel(arquivopdf+\"v3\"+\".xlsx\", index=False)"
   ]
  },
  {
   "cell_type": "markdown",
   "id": "a17239ec",
   "metadata": {},
   "source": [
    "* -FIM-\n",
    "* |\n",
    "* |"
   ]
  },
  {
   "cell_type": "markdown",
   "id": "746cb44e",
   "metadata": {},
   "source": [
    "# Opcional extrair tabelas 1 e 2"
   ]
  },
  {
   "cell_type": "code",
   "execution_count": null,
   "id": "fd357ccd",
   "metadata": {},
   "outputs": [],
   "source": [
    "# Salvando versão em excel\n",
    "# tabela1.to_excel(arquivopdf+\"v1\"+\".xlsx\", index=False)"
   ]
  },
  {
   "cell_type": "code",
   "execution_count": null,
   "id": "b8f15f0c",
   "metadata": {},
   "outputs": [],
   "source": [
    "# Salvando versão em excel\n",
    "# tabela2.to_excel(arquivopdf+\"v2\"+\".xlsx\", index=False)"
   ]
  }
 ],
 "metadata": {
  "kernelspec": {
   "display_name": "Python 3 (ipykernel)",
   "language": "python",
   "name": "python3"
  },
  "language_info": {
   "codemirror_mode": {
    "name": "ipython",
    "version": 3
   },
   "file_extension": ".py",
   "mimetype": "text/x-python",
   "name": "python",
   "nbconvert_exporter": "python",
   "pygments_lexer": "ipython3",
   "version": "3.9.13"
  }
 },
 "nbformat": 4,
 "nbformat_minor": 5
}
